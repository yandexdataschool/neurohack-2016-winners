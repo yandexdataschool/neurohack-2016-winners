{
 "cells": [
  {
   "cell_type": "markdown",
   "metadata": {},
   "source": [
    "## Init"
   ]
  },
  {
   "cell_type": "code",
   "execution_count": 29,
   "metadata": {
    "collapsed": false
   },
   "outputs": [],
   "source": [
    "%matplotlib inline\n",
    "import tensorflow as tf\n",
    "import pandas as pd\n",
    "import numpy as np\n",
    "from matplotlib import pyplot\n",
    "import re\n",
    "import os\n",
    "plt = pyplot\n",
    "\n",
    "os.chdir('neurohack-2016-starterkit/task_3/')"
   ]
  },
  {
   "cell_type": "markdown",
   "metadata": {},
   "source": [
    "## TensorFlow PearsonR implementation"
   ]
  },
  {
   "cell_type": "code",
   "execution_count": 3,
   "metadata": {
    "collapsed": true
   },
   "outputs": [],
   "source": [
    "def pearsonr(x, y):\n",
    "    mx, sx = tf.nn.moments(x, [1])\n",
    "    my, sy = tf.nn.moments(y, [1])\n",
    "    \n",
    "    sigma_x = tf.sqrt(sx)\n",
    "    sigma_y = tf.sqrt(sy)\n",
    "\n",
    "    return tf.reduce_mean((tf.reduce_mean(x * y, 1) - mx * my) / sigma_x / sigma_y, 1)\n",
    "    \n",
    "def diff(x):\n",
    "    return tf.slice(x, [0, 1, 0], [-1, -1, -1]) - tf.slice(x, [0, 0, 0], tf.shape(x) - [0, 1, 0])"
   ]
  },
  {
   "cell_type": "markdown",
   "metadata": {},
   "source": [
    "## Model graph"
   ]
  },
  {
   "cell_type": "code",
   "execution_count": 231,
   "metadata": {
    "collapsed": false
   },
   "outputs": [],
   "source": [
    "num_subjects = 3\n",
    "input_size = 8\n",
    "output_size = 2\n",
    "num_units = 16\n",
    "dtype = tf.float32\n",
    "\n",
    "tf.reset_default_graph()\n",
    "\n",
    "x = tf.placeholder(dtype = dtype, shape = (None, None, input_size), name = 'input')\n",
    "subject = tf.placeholder(dtype = tf.int32, shape = (), name = 'subject')\n",
    "y = tf.placeholder(dtype = dtype, shape = (None, None, output_size), name = 'output')\n",
    "sequence_length = tf.placeholder(dtype = tf.int32, shape = (None), name = 'sequence_length')\n",
    "\n",
    "batch_size = tf.shape(x)[0]\n",
    "\n",
    "subject_onehot = tf.one_hot(subject, num_subjects)\n",
    "\n",
    "with tf.variable_scope('rnn'):\n",
    "    cell = tf.nn.rnn_cell.LSTMCell(num_units = num_units, num_proj = output_size)   \n",
    "    init_state = cell.zero_state(batch_size, dtype = dtype)\n",
    "\n",
    "subject_onehot = tf.tile(tf.reshape(subject_onehot, (1, 1, num_subjects)), (batch_size, tf.shape(x)[1], 1))\n",
    "\n",
    "x_subject = tf.concat(2, [subject_onehot, x])\n",
    "\n",
    "outputs, end_state = tf.nn.dynamic_rnn(cell, x_subject, initial_state = init_state, sequence_length = sequence_length)\n",
    "\n",
    "r = tf.reduce_sum(tf.reduce_mean(pearsonr(diff(outputs), diff(y)), 0), name = 'loss_mean')\n",
    "loss = -r\n",
    "opt_op = tf.train.AdamOptimizer()\n",
    "opt = opt_op.minimize(loss)"
   ]
  },
  {
   "cell_type": "markdown",
   "metadata": {},
   "source": [
    "### Create session"
   ]
  },
  {
   "cell_type": "code",
   "execution_count": 238,
   "metadata": {
    "collapsed": false
   },
   "outputs": [],
   "source": [
    "sess = tf.InteractiveSession()\n",
    "sess.run(tf.global_variables_initializer())\n",
    "saver = tf.train.Saver()"
   ]
  },
  {
   "cell_type": "markdown",
   "metadata": {},
   "source": [
    "### Model saving/restoring"
   ]
  },
  {
   "cell_type": "code",
   "execution_count": 371,
   "metadata": {
    "collapsed": false
   },
   "outputs": [],
   "source": [
    "saver.restore(sess,'./model16_best.ckpt')"
   ]
  },
  {
   "cell_type": "code",
   "execution_count": 213,
   "metadata": {
    "collapsed": false
   },
   "outputs": [
    {
     "data": {
      "text/plain": [
       "'./model_backup.ckpt'"
      ]
     },
     "execution_count": 213,
     "metadata": {},
     "output_type": "execute_result"
    }
   ],
   "source": [
    "saver.save(sess,'./model_backup.ckpt')"
   ]
  },
  {
   "cell_type": "markdown",
   "metadata": {},
   "source": [
    "### Feed construction"
   ]
  },
  {
   "cell_type": "code",
   "execution_count": 360,
   "metadata": {
    "collapsed": true
   },
   "outputs": [],
   "source": [
    "def make_feed(trials):\n",
    "    x_batch = []\n",
    "    y_batch = []\n",
    "    \n",
    "    # Make batches\n",
    "    for trial_name, trial_data in trials:\n",
    "        x_batch.append(trial_data['emg'])\n",
    "        y_batch.append(trial_data['pen_coordinates'])\n",
    "        \n",
    "    seq_length = [len(seq) for seq in x_batch]\n",
    "    max_length = max(seq_length)\n",
    "\n",
    "    # Padding just to make TF happy\n",
    "    x_batch = np.array([np.pad(b,[[0, max_length - len(b)], [0,0]], 'constant') for b in x_batch])\n",
    "    y_batch = np.array([np.pad(b,[[0, max_length - len(b)], [0,0]], 'constant') for b in y_batch])\n",
    "\n",
    "    return {subject: subject_id, sequence_length: seq_length, x: x_batch, y: y_batch}"
   ]
  },
  {
   "cell_type": "markdown",
   "metadata": {},
   "source": [
    "## Start training"
   ]
  },
  {
   "cell_type": "code",
   "execution_count": 372,
   "metadata": {
    "collapsed": false
   },
   "outputs": [
    {
     "name": "stdout",
     "output_type": "stream",
     "text": [
      "Epoch 0, Pearson: min 0.499150, max 0.958113, mean 0.827192\n"
     ]
    }
   ],
   "source": [
    "train_io = h5py.File(\"train.h5\")\n",
    "\n",
    "inp = pd.DataFrame()\n",
    "\n",
    "for epoch in range(1):\n",
    "    prs = []\n",
    "    for subject_name, subject_data in train_io.items():\n",
    "        \n",
    "        subject_id = re.findall(r'\\d+', subject_name)[0]\n",
    "        \n",
    "        for d, digit_data in subject_data.items():\n",
    "\n",
    "            trials = sorted(dict(digit_data).items())\n",
    "            \n",
    "            # Leave 5 trials for validation\n",
    "            trials_in = trials[:-5]\n",
    "            feed = make_feed(trials_in)\n",
    "\n",
    "            # Do optimization step\n",
    "            trials_out, values, _ = sess.run([outputs, y, opt], feed)\n",
    "            #print(len(feed[sequence_length]))\n",
    "            \n",
    "            # Collect input\n",
    "            for trial_in, trial_out, value, seq_length in zip(trials_in, trials_out, values, feed[sequence_length]):\n",
    "      \n",
    "                i = pd.DataFrame({'subject_id': subject_id, 'digit': d\n",
    "                                , 'trial_id': re.findall(r'\\d+', trial_in[0])[0]\n",
    "                                , 'tick_index': range(seq_length)\n",
    "                                , 'x': trial_out[:seq_length,0], 'y': trial_out[:seq_length,1]\n",
    "                                , 'X': value[:seq_length,0], 'Y': value[:seq_length,1]})\n",
    "                inp = pd.concat([inp, i]) \n",
    "            \n",
    "            # Collect pearson values on validation trials\n",
    "            feed = make_feed(trials[-5:])\n",
    "            pr = sess.run(r, feed)\n",
    "            prs.append(pr)\n",
    "\n",
    "    if epoch % 10 == 0:\n",
    "        print(\"Epoch %d, Pearson: min %f, max %f, mean %f\" % (epoch, np.min(prs), np.max(prs), np.mean(prs)))\n",
    "        saver.save(sess, \"model_16_epoch_%s_1.ckpt\" % epoch)"
   ]
  },
  {
   "cell_type": "markdown",
   "metadata": {},
   "source": [
    "## Build test output"
   ]
  },
  {
   "cell_type": "code",
   "execution_count": 262,
   "metadata": {
    "collapsed": false
   },
   "outputs": [],
   "source": [
    "test_io = h5py.File(\"test.h5\")\n",
    "\n",
    "out = pd.DataFrame(columns = ['subject_id','trial_id','tick_index','x','y'])\n",
    "\n",
    "for subject_name, subject_data in test_io.items():\n",
    "\n",
    "    x_batch = []\n",
    "    for trial_name, trial_data in subject_data.items():\n",
    "        x_batch.append(trial_data)\n",
    "                              \n",
    "    seq_length = [len(seq) for seq in x_batch]\n",
    "    max_length = max(seq_length)\n",
    "   \n",
    "    x_batch = np.array([np.pad(b,[[0, max_length - len(b)], [0,0]], 'constant') for b in x_batch])\n",
    "\n",
    "    subject_id = re.findall(r'\\d+', subject_name)[0]\n",
    "    feed = {subject: subject_id, sequence_length: seq_length, x: x_batch}\n",
    "\n",
    "    outs = sess.run(outputs, feed)\n",
    "\n",
    "    for b, trial, length in zip(outs, subject_data.keys(), seq_length):\n",
    "        o = pd.DataFrame({'subject_id': subject_id, 'trial_id': re.findall(r'\\d+', trial)[0], 'tick_index': list(range(length)), 'x': b[:length,0], 'y': b[:length,1]})\n",
    "        out = pd.concat([out, o]) "
   ]
  },
  {
   "cell_type": "markdown",
   "metadata": {},
   "source": [
    "## Plot sh*t"
   ]
  },
  {
   "cell_type": "code",
   "execution_count": 391,
   "metadata": {
    "collapsed": false
   },
   "outputs": [
    {
     "data": {
      "text/plain": [
       "[<matplotlib.lines.Line2D at 0x7f9f2553bb00>]"
      ]
     },
     "execution_count": 391,
     "metadata": {},
     "output_type": "execute_result"
    },
    {
     "data": {
      "image/png": "[encoded data removed]",
      "text/plain": [
       "<matplotlib.figure.Figure at 0x7f9f260d45c0>"
      ]
     },
     "metadata": {},
     "output_type": "display_data"
    }
   ],
   "source": [
    "plot_data = inp[(inp['subject_id'] == '1') & (inp['digit'] == '1')]\n",
    "plot_data = plot_data[plot_data['trial_id'] == plot_data.trial_id.unique()[30]]\n",
    "\n",
    "plt.figure(1)\n",
    "plt.subplot(211)\n",
    "plt.plot(plot_data.x, plot_data.y)\n",
    "plt.subplot(212)\n",
    "plt.plot(plot_data.X, plot_data.Y)\n",
    "#plt.ylim(-110,-106)"
   ]
  },
  {
   "cell_type": "code",
   "execution_count": 393,
   "metadata": {
    "collapsed": false
   },
   "outputs": [
    {
     "data": {
      "text/plain": [
       "[<matplotlib.lines.Line2D at 0x7f9f25428978>]"
      ]
     },
     "execution_count": 393,
     "metadata": {},
     "output_type": "execute_result"
    },
    {
     "data": {
      "image/png": "[encoded data removed]",
      "text/plain": [
       "<matplotlib.figure.Figure at 0x7f9f2546c630>"
      ]
     },
     "metadata": {},
     "output_type": "display_data"
    }
   ],
   "source": [
    "plot_data = out[out['subject_id'] == '2']\n",
    "plot_data = plot_data[plot_data['trial_id'] == plot_data.trial_id.unique()[0]]\n",
    "#plot_data = plot_data[plot_data['trial_id'] == '496']\n",
    "plt.plot(plot_data.x, plot_data.y, marker = '.')"
   ]
  },
  {
   "cell_type": "markdown",
   "metadata": {},
   "source": [
    "## Export CSV"
   ]
  },
  {
   "cell_type": "code",
   "execution_count": 264,
   "metadata": {
    "collapsed": true
   },
   "outputs": [],
   "source": [
    "out.to_csv('submission.csv', index = False, columns = ['subject_id','trial_id','tick_index','x','y'])"
   ]
  }
 ],
 "metadata": {
  "anaconda-cloud": {},
  "kernelspec": {
   "display_name": "Python [conda env:py3]",
   "language": "python",
   "name": "conda-env-py3-py"
  },
  "language_info": {
   "codemirror_mode": {
    "name": "ipython",
    "version": 3
   },
   "file_extension": ".py",
   "mimetype": "text/x-python",
   "name": "python",
   "nbconvert_exporter": "python",
   "pygments_lexer": "ipython3",
   "version": "3.5.2"
  }
 },
 "nbformat": 4,
 "nbformat_minor": 1
}
